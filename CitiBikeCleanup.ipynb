{
 "cells": [
  {
   "cell_type": "code",
   "execution_count": 2,
   "id": "84baa11e",
   "metadata": {},
   "outputs": [],
   "source": [
    "import pandas as pd"
   ]
  },
  {
   "cell_type": "code",
   "execution_count": 3,
   "id": "b515d57c",
   "metadata": {},
   "outputs": [],
   "source": [
    "#Read in data\n",
    "bikedata=\"citibike_data.csv\""
   ]
  },
  {
   "cell_type": "code",
   "execution_count": 4,
   "id": "095af173",
   "metadata": {},
   "outputs": [],
   "source": [
    "#Convert to df\n",
    "bikedata_df=pd.read_csv(bikedata)"
   ]
  },
  {
   "cell_type": "code",
   "execution_count": 5,
   "id": "e9382ba5",
   "metadata": {},
   "outputs": [
    {
     "data": {
      "text/html": [
       "<div>\n",
       "<style scoped>\n",
       "    .dataframe tbody tr th:only-of-type {\n",
       "        vertical-align: middle;\n",
       "    }\n",
       "\n",
       "    .dataframe tbody tr th {\n",
       "        vertical-align: top;\n",
       "    }\n",
       "\n",
       "    .dataframe thead th {\n",
       "        text-align: right;\n",
       "    }\n",
       "</style>\n",
       "<table border=\"1\" class=\"dataframe\">\n",
       "  <thead>\n",
       "    <tr style=\"text-align: right;\">\n",
       "      <th></th>\n",
       "      <th>ride_id</th>\n",
       "      <th>rideable_type</th>\n",
       "      <th>started_at</th>\n",
       "      <th>ended_at</th>\n",
       "      <th>start_station_name</th>\n",
       "      <th>start_station_id</th>\n",
       "      <th>end_station_name</th>\n",
       "      <th>end_station_id</th>\n",
       "      <th>start_lat</th>\n",
       "      <th>start_lng</th>\n",
       "      <th>end_lat</th>\n",
       "      <th>end_lng</th>\n",
       "      <th>member_casual</th>\n",
       "    </tr>\n",
       "  </thead>\n",
       "  <tbody>\n",
       "    <tr>\n",
       "      <th>0</th>\n",
       "      <td>00018CB530A14F3E</td>\n",
       "      <td>classic_bike</td>\n",
       "      <td>3/12/2023 1:54</td>\n",
       "      <td>3/12/2023 1:56</td>\n",
       "      <td>Hudson St &amp; 4 St</td>\n",
       "      <td>HB607</td>\n",
       "      <td>8 St &amp; Washington St</td>\n",
       "      <td>HB603</td>\n",
       "      <td>40.740877</td>\n",
       "      <td>-74.028593</td>\n",
       "      <td>40.745984</td>\n",
       "      <td>-74.028199</td>\n",
       "      <td>member</td>\n",
       "    </tr>\n",
       "    <tr>\n",
       "      <th>1</th>\n",
       "      <td>0002D93A3D2C1A57</td>\n",
       "      <td>electric_bike</td>\n",
       "      <td>3/16/2023 19:35</td>\n",
       "      <td>3/16/2023 19:39</td>\n",
       "      <td>Grove St PATH</td>\n",
       "      <td>JC115</td>\n",
       "      <td>Monmouth and 6th</td>\n",
       "      <td>JC075</td>\n",
       "      <td>40.719410</td>\n",
       "      <td>-74.043090</td>\n",
       "      <td>40.725685</td>\n",
       "      <td>-74.048790</td>\n",
       "      <td>member</td>\n",
       "    </tr>\n",
       "    <tr>\n",
       "      <th>2</th>\n",
       "      <td>0004870EE61AB228</td>\n",
       "      <td>classic_bike</td>\n",
       "      <td>3/12/2023 11:06</td>\n",
       "      <td>3/12/2023 11:08</td>\n",
       "      <td>Manila &amp; 1st</td>\n",
       "      <td>JC082</td>\n",
       "      <td>Newark Ave</td>\n",
       "      <td>JC032</td>\n",
       "      <td>40.721651</td>\n",
       "      <td>-74.042884</td>\n",
       "      <td>40.721525</td>\n",
       "      <td>-74.046305</td>\n",
       "      <td>member</td>\n",
       "    </tr>\n",
       "    <tr>\n",
       "      <th>3</th>\n",
       "      <td>0004CA5FDFE2DF8D</td>\n",
       "      <td>electric_bike</td>\n",
       "      <td>3/22/2023 9:11</td>\n",
       "      <td>3/22/2023 9:13</td>\n",
       "      <td>Clinton St &amp; 7 St</td>\n",
       "      <td>HB303</td>\n",
       "      <td>6 St &amp; Grand St</td>\n",
       "      <td>HB302</td>\n",
       "      <td>40.745420</td>\n",
       "      <td>-74.033320</td>\n",
       "      <td>40.744398</td>\n",
       "      <td>-74.034501</td>\n",
       "      <td>member</td>\n",
       "    </tr>\n",
       "    <tr>\n",
       "      <th>4</th>\n",
       "      <td>00064A16BFD4A7BA</td>\n",
       "      <td>classic_bike</td>\n",
       "      <td>3/9/2023 8:09</td>\n",
       "      <td>3/9/2023 8:15</td>\n",
       "      <td>Madison St &amp; 1 St</td>\n",
       "      <td>HB402</td>\n",
       "      <td>Hoboken Terminal - River St &amp; Hudson Pl</td>\n",
       "      <td>HB102</td>\n",
       "      <td>40.738790</td>\n",
       "      <td>-74.039300</td>\n",
       "      <td>40.736068</td>\n",
       "      <td>-74.029127</td>\n",
       "      <td>casual</td>\n",
       "    </tr>\n",
       "  </tbody>\n",
       "</table>\n",
       "</div>"
      ],
      "text/plain": [
       "            ride_id  rideable_type       started_at         ended_at  \\\n",
       "0  00018CB530A14F3E   classic_bike   3/12/2023 1:54   3/12/2023 1:56   \n",
       "1  0002D93A3D2C1A57  electric_bike  3/16/2023 19:35  3/16/2023 19:39   \n",
       "2  0004870EE61AB228   classic_bike  3/12/2023 11:06  3/12/2023 11:08   \n",
       "3  0004CA5FDFE2DF8D  electric_bike   3/22/2023 9:11   3/22/2023 9:13   \n",
       "4  00064A16BFD4A7BA   classic_bike    3/9/2023 8:09    3/9/2023 8:15   \n",
       "\n",
       "  start_station_name start_station_id  \\\n",
       "0   Hudson St & 4 St            HB607   \n",
       "1      Grove St PATH            JC115   \n",
       "2       Manila & 1st            JC082   \n",
       "3  Clinton St & 7 St            HB303   \n",
       "4  Madison St & 1 St            HB402   \n",
       "\n",
       "                          end_station_name end_station_id  start_lat  \\\n",
       "0                     8 St & Washington St          HB603  40.740877   \n",
       "1                         Monmouth and 6th          JC075  40.719410   \n",
       "2                               Newark Ave          JC032  40.721651   \n",
       "3                          6 St & Grand St          HB302  40.745420   \n",
       "4  Hoboken Terminal - River St & Hudson Pl          HB102  40.738790   \n",
       "\n",
       "   start_lng    end_lat    end_lng member_casual  \n",
       "0 -74.028593  40.745984 -74.028199        member  \n",
       "1 -74.043090  40.725685 -74.048790        member  \n",
       "2 -74.042884  40.721525 -74.046305        member  \n",
       "3 -74.033320  40.744398 -74.034501        member  \n",
       "4 -74.039300  40.736068 -74.029127        casual  "
      ]
     },
     "execution_count": 5,
     "metadata": {},
     "output_type": "execute_result"
    }
   ],
   "source": [
    "bikedata_df.head()"
   ]
  },
  {
   "cell_type": "code",
   "execution_count": 6,
   "id": "ea718a69",
   "metadata": {},
   "outputs": [
    {
     "data": {
      "text/plain": [
       "ride_id                object\n",
       "rideable_type          object\n",
       "started_at             object\n",
       "ended_at               object\n",
       "start_station_name     object\n",
       "start_station_id       object\n",
       "end_station_name       object\n",
       "end_station_id         object\n",
       "start_lat             float64\n",
       "start_lng             float64\n",
       "end_lat               float64\n",
       "end_lng               float64\n",
       "member_casual          object\n",
       "dtype: object"
      ]
     },
     "execution_count": 6,
     "metadata": {},
     "output_type": "execute_result"
    }
   ],
   "source": [
    "#check data types\n",
    "bikedata_df.dtypes"
   ]
  },
  {
   "cell_type": "code",
   "execution_count": 10,
   "id": "96b8531c",
   "metadata": {},
   "outputs": [],
   "source": [
    "#convert the start and end data to datetime format\n",
    "bikedata_df['started_at'] = pd.to_datetime(bikedata_df['started_at'])"
   ]
  },
  {
   "cell_type": "code",
   "execution_count": 15,
   "id": "d0ef4830",
   "metadata": {},
   "outputs": [],
   "source": [
    "bikedata_df['ended_at'] = pd.to_datetime(bikedata_df['ended_at'])"
   ]
  },
  {
   "cell_type": "code",
   "execution_count": 16,
   "id": "2046a47b",
   "metadata": {},
   "outputs": [
    {
     "data": {
      "text/html": [
       "<div>\n",
       "<style scoped>\n",
       "    .dataframe tbody tr th:only-of-type {\n",
       "        vertical-align: middle;\n",
       "    }\n",
       "\n",
       "    .dataframe tbody tr th {\n",
       "        vertical-align: top;\n",
       "    }\n",
       "\n",
       "    .dataframe thead th {\n",
       "        text-align: right;\n",
       "    }\n",
       "</style>\n",
       "<table border=\"1\" class=\"dataframe\">\n",
       "  <thead>\n",
       "    <tr style=\"text-align: right;\">\n",
       "      <th></th>\n",
       "      <th>ride_id</th>\n",
       "      <th>rideable_type</th>\n",
       "      <th>started_at</th>\n",
       "      <th>ended_at</th>\n",
       "      <th>start_station_name</th>\n",
       "      <th>start_station_id</th>\n",
       "      <th>end_station_name</th>\n",
       "      <th>end_station_id</th>\n",
       "      <th>start_lat</th>\n",
       "      <th>start_lng</th>\n",
       "      <th>end_lat</th>\n",
       "      <th>end_lng</th>\n",
       "      <th>member_casual</th>\n",
       "    </tr>\n",
       "  </thead>\n",
       "  <tbody>\n",
       "    <tr>\n",
       "      <th>0</th>\n",
       "      <td>00018CB530A14F3E</td>\n",
       "      <td>classic_bike</td>\n",
       "      <td>2023-03-12 01:54:00</td>\n",
       "      <td>2023-03-12 01:56:00</td>\n",
       "      <td>Hudson St &amp; 4 St</td>\n",
       "      <td>HB607</td>\n",
       "      <td>8 St &amp; Washington St</td>\n",
       "      <td>HB603</td>\n",
       "      <td>40.740877</td>\n",
       "      <td>-74.028593</td>\n",
       "      <td>40.745984</td>\n",
       "      <td>-74.028199</td>\n",
       "      <td>member</td>\n",
       "    </tr>\n",
       "    <tr>\n",
       "      <th>1</th>\n",
       "      <td>0002D93A3D2C1A57</td>\n",
       "      <td>electric_bike</td>\n",
       "      <td>2023-03-16 19:35:00</td>\n",
       "      <td>2023-03-16 19:39:00</td>\n",
       "      <td>Grove St PATH</td>\n",
       "      <td>JC115</td>\n",
       "      <td>Monmouth and 6th</td>\n",
       "      <td>JC075</td>\n",
       "      <td>40.719410</td>\n",
       "      <td>-74.043090</td>\n",
       "      <td>40.725685</td>\n",
       "      <td>-74.048790</td>\n",
       "      <td>member</td>\n",
       "    </tr>\n",
       "    <tr>\n",
       "      <th>2</th>\n",
       "      <td>0004870EE61AB228</td>\n",
       "      <td>classic_bike</td>\n",
       "      <td>2023-03-12 11:06:00</td>\n",
       "      <td>2023-03-12 11:08:00</td>\n",
       "      <td>Manila &amp; 1st</td>\n",
       "      <td>JC082</td>\n",
       "      <td>Newark Ave</td>\n",
       "      <td>JC032</td>\n",
       "      <td>40.721651</td>\n",
       "      <td>-74.042884</td>\n",
       "      <td>40.721525</td>\n",
       "      <td>-74.046305</td>\n",
       "      <td>member</td>\n",
       "    </tr>\n",
       "    <tr>\n",
       "      <th>3</th>\n",
       "      <td>0004CA5FDFE2DF8D</td>\n",
       "      <td>electric_bike</td>\n",
       "      <td>2023-03-22 09:11:00</td>\n",
       "      <td>2023-03-22 09:13:00</td>\n",
       "      <td>Clinton St &amp; 7 St</td>\n",
       "      <td>HB303</td>\n",
       "      <td>6 St &amp; Grand St</td>\n",
       "      <td>HB302</td>\n",
       "      <td>40.745420</td>\n",
       "      <td>-74.033320</td>\n",
       "      <td>40.744398</td>\n",
       "      <td>-74.034501</td>\n",
       "      <td>member</td>\n",
       "    </tr>\n",
       "    <tr>\n",
       "      <th>4</th>\n",
       "      <td>00064A16BFD4A7BA</td>\n",
       "      <td>classic_bike</td>\n",
       "      <td>2023-03-09 08:09:00</td>\n",
       "      <td>2023-03-09 08:15:00</td>\n",
       "      <td>Madison St &amp; 1 St</td>\n",
       "      <td>HB402</td>\n",
       "      <td>Hoboken Terminal - River St &amp; Hudson Pl</td>\n",
       "      <td>HB102</td>\n",
       "      <td>40.738790</td>\n",
       "      <td>-74.039300</td>\n",
       "      <td>40.736068</td>\n",
       "      <td>-74.029127</td>\n",
       "      <td>casual</td>\n",
       "    </tr>\n",
       "  </tbody>\n",
       "</table>\n",
       "</div>"
      ],
      "text/plain": [
       "            ride_id  rideable_type          started_at            ended_at  \\\n",
       "0  00018CB530A14F3E   classic_bike 2023-03-12 01:54:00 2023-03-12 01:56:00   \n",
       "1  0002D93A3D2C1A57  electric_bike 2023-03-16 19:35:00 2023-03-16 19:39:00   \n",
       "2  0004870EE61AB228   classic_bike 2023-03-12 11:06:00 2023-03-12 11:08:00   \n",
       "3  0004CA5FDFE2DF8D  electric_bike 2023-03-22 09:11:00 2023-03-22 09:13:00   \n",
       "4  00064A16BFD4A7BA   classic_bike 2023-03-09 08:09:00 2023-03-09 08:15:00   \n",
       "\n",
       "  start_station_name start_station_id  \\\n",
       "0   Hudson St & 4 St            HB607   \n",
       "1      Grove St PATH            JC115   \n",
       "2       Manila & 1st            JC082   \n",
       "3  Clinton St & 7 St            HB303   \n",
       "4  Madison St & 1 St            HB402   \n",
       "\n",
       "                          end_station_name end_station_id  start_lat  \\\n",
       "0                     8 St & Washington St          HB603  40.740877   \n",
       "1                         Monmouth and 6th          JC075  40.719410   \n",
       "2                               Newark Ave          JC032  40.721651   \n",
       "3                          6 St & Grand St          HB302  40.745420   \n",
       "4  Hoboken Terminal - River St & Hudson Pl          HB102  40.738790   \n",
       "\n",
       "   start_lng    end_lat    end_lng member_casual  \n",
       "0 -74.028593  40.745984 -74.028199        member  \n",
       "1 -74.043090  40.725685 -74.048790        member  \n",
       "2 -74.042884  40.721525 -74.046305        member  \n",
       "3 -74.033320  40.744398 -74.034501        member  \n",
       "4 -74.039300  40.736068 -74.029127        casual  "
      ]
     },
     "execution_count": 16,
     "metadata": {},
     "output_type": "execute_result"
    }
   ],
   "source": [
    "bikedata_df.head()"
   ]
  },
  {
   "cell_type": "code",
   "execution_count": 17,
   "id": "b1976fb1",
   "metadata": {},
   "outputs": [
    {
     "data": {
      "text/plain": [
       "Timedelta('0 days 00:04:00')"
      ]
     },
     "execution_count": 17,
     "metadata": {},
     "output_type": "execute_result"
    }
   ],
   "source": [
    "#checking to see how to find the time difference between start and end time\n",
    "bikedata_df['ended_at'][1] - bikedata_df['started_at'][1]"
   ]
  },
  {
   "cell_type": "code",
   "execution_count": 19,
   "id": "2858dfcf",
   "metadata": {},
   "outputs": [],
   "source": [
    "end = bikedata_df['ended_at'][1]\n",
    "begin = bikedata_df['started_at'][1]"
   ]
  },
  {
   "cell_type": "code",
   "execution_count": 32,
   "id": "dc3749ad",
   "metadata": {},
   "outputs": [
    {
     "data": {
      "text/plain": [
       "240"
      ]
     },
     "execution_count": 32,
     "metadata": {},
     "output_type": "execute_result"
    }
   ],
   "source": [
    "pd.Timedelta(bikedata_df['ended_at'][1]-bikedata_df['started_at'][1]).seconds"
   ]
  },
  {
   "cell_type": "code",
   "execution_count": null,
   "id": "d1e51b3e",
   "metadata": {},
   "outputs": [],
   "source": [
    "pd.Timedelta(end-begin).seconds"
   ]
  },
  {
   "cell_type": "code",
   "execution_count": 26,
   "id": "f967ca76",
   "metadata": {},
   "outputs": [
    {
     "data": {
      "text/plain": [
       "63038"
      ]
     },
     "execution_count": 26,
     "metadata": {},
     "output_type": "execute_result"
    }
   ],
   "source": [
    "len(bikedata_df['ended_at'])"
   ]
  },
  {
   "cell_type": "code",
   "execution_count": 30,
   "id": "87b96775",
   "metadata": {},
   "outputs": [],
   "source": [
    "#Create new column to store the total ride time\n",
    "bikedata_df['tot_ride_time']=''"
   ]
  },
  {
   "cell_type": "code",
   "execution_count": 33,
   "id": "f77f322d",
   "metadata": {},
   "outputs": [
    {
     "name": "stderr",
     "output_type": "stream",
     "text": [
      "C:\\Users\\ezgib\\AppData\\Local\\Temp\\ipykernel_20436\\4164467700.py:2: SettingWithCopyWarning: \n",
      "A value is trying to be set on a copy of a slice from a DataFrame\n",
      "\n",
      "See the caveats in the documentation: https://pandas.pydata.org/pandas-docs/stable/user_guide/indexing.html#returning-a-view-versus-a-copy\n",
      "  bikedata_df['tot_ride_time'][i] = pd.Timedelta(bikedata_df['ended_at'][i]-bikedata_df['started_at'][i]).seconds\n"
     ]
    }
   ],
   "source": [
    "#Calculate the total ride time for each row and store in the new column\n",
    "for i in range(len(bikedata_df)):\n",
    "    bikedata_df['tot_ride_time'][i] = pd.Timedelta(bikedata_df['ended_at'][i]-bikedata_df['started_at'][i]).seconds"
   ]
  },
  {
   "cell_type": "code",
   "execution_count": 36,
   "id": "e2721934",
   "metadata": {},
   "outputs": [
    {
     "data": {
      "text/plain": [
       "ride_id                       object\n",
       "rideable_type                 object\n",
       "started_at            datetime64[ns]\n",
       "ended_at              datetime64[ns]\n",
       "start_station_name            object\n",
       "start_station_id              object\n",
       "end_station_name              object\n",
       "end_station_id                object\n",
       "start_lat                    float64\n",
       "start_lng                    float64\n",
       "end_lat                      float64\n",
       "end_lng                      float64\n",
       "member_casual                 object\n",
       "tot_ride_time                 object\n",
       "dtype: object"
      ]
     },
     "execution_count": 36,
     "metadata": {},
     "output_type": "execute_result"
    }
   ],
   "source": [
    "bikedata_df.dtypes"
   ]
  },
  {
   "cell_type": "code",
   "execution_count": 34,
   "id": "7e8efcb7",
   "metadata": {},
   "outputs": [
    {
     "data": {
      "text/html": [
       "<div>\n",
       "<style scoped>\n",
       "    .dataframe tbody tr th:only-of-type {\n",
       "        vertical-align: middle;\n",
       "    }\n",
       "\n",
       "    .dataframe tbody tr th {\n",
       "        vertical-align: top;\n",
       "    }\n",
       "\n",
       "    .dataframe thead th {\n",
       "        text-align: right;\n",
       "    }\n",
       "</style>\n",
       "<table border=\"1\" class=\"dataframe\">\n",
       "  <thead>\n",
       "    <tr style=\"text-align: right;\">\n",
       "      <th></th>\n",
       "      <th>ride_id</th>\n",
       "      <th>rideable_type</th>\n",
       "      <th>started_at</th>\n",
       "      <th>ended_at</th>\n",
       "      <th>start_station_name</th>\n",
       "      <th>start_station_id</th>\n",
       "      <th>end_station_name</th>\n",
       "      <th>end_station_id</th>\n",
       "      <th>start_lat</th>\n",
       "      <th>start_lng</th>\n",
       "      <th>end_lat</th>\n",
       "      <th>end_lng</th>\n",
       "      <th>member_casual</th>\n",
       "      <th>tot_ride_time</th>\n",
       "    </tr>\n",
       "  </thead>\n",
       "  <tbody>\n",
       "    <tr>\n",
       "      <th>0</th>\n",
       "      <td>00018CB530A14F3E</td>\n",
       "      <td>classic_bike</td>\n",
       "      <td>2023-03-12 01:54:00</td>\n",
       "      <td>2023-03-12 01:56:00</td>\n",
       "      <td>Hudson St &amp; 4 St</td>\n",
       "      <td>HB607</td>\n",
       "      <td>8 St &amp; Washington St</td>\n",
       "      <td>HB603</td>\n",
       "      <td>40.740877</td>\n",
       "      <td>-74.028593</td>\n",
       "      <td>40.745984</td>\n",
       "      <td>-74.028199</td>\n",
       "      <td>member</td>\n",
       "      <td>120</td>\n",
       "    </tr>\n",
       "    <tr>\n",
       "      <th>1</th>\n",
       "      <td>0002D93A3D2C1A57</td>\n",
       "      <td>electric_bike</td>\n",
       "      <td>2023-03-16 19:35:00</td>\n",
       "      <td>2023-03-16 19:39:00</td>\n",
       "      <td>Grove St PATH</td>\n",
       "      <td>JC115</td>\n",
       "      <td>Monmouth and 6th</td>\n",
       "      <td>JC075</td>\n",
       "      <td>40.719410</td>\n",
       "      <td>-74.043090</td>\n",
       "      <td>40.725685</td>\n",
       "      <td>-74.048790</td>\n",
       "      <td>member</td>\n",
       "      <td>240</td>\n",
       "    </tr>\n",
       "    <tr>\n",
       "      <th>2</th>\n",
       "      <td>0004870EE61AB228</td>\n",
       "      <td>classic_bike</td>\n",
       "      <td>2023-03-12 11:06:00</td>\n",
       "      <td>2023-03-12 11:08:00</td>\n",
       "      <td>Manila &amp; 1st</td>\n",
       "      <td>JC082</td>\n",
       "      <td>Newark Ave</td>\n",
       "      <td>JC032</td>\n",
       "      <td>40.721651</td>\n",
       "      <td>-74.042884</td>\n",
       "      <td>40.721525</td>\n",
       "      <td>-74.046305</td>\n",
       "      <td>member</td>\n",
       "      <td>120</td>\n",
       "    </tr>\n",
       "    <tr>\n",
       "      <th>3</th>\n",
       "      <td>0004CA5FDFE2DF8D</td>\n",
       "      <td>electric_bike</td>\n",
       "      <td>2023-03-22 09:11:00</td>\n",
       "      <td>2023-03-22 09:13:00</td>\n",
       "      <td>Clinton St &amp; 7 St</td>\n",
       "      <td>HB303</td>\n",
       "      <td>6 St &amp; Grand St</td>\n",
       "      <td>HB302</td>\n",
       "      <td>40.745420</td>\n",
       "      <td>-74.033320</td>\n",
       "      <td>40.744398</td>\n",
       "      <td>-74.034501</td>\n",
       "      <td>member</td>\n",
       "      <td>120</td>\n",
       "    </tr>\n",
       "    <tr>\n",
       "      <th>4</th>\n",
       "      <td>00064A16BFD4A7BA</td>\n",
       "      <td>classic_bike</td>\n",
       "      <td>2023-03-09 08:09:00</td>\n",
       "      <td>2023-03-09 08:15:00</td>\n",
       "      <td>Madison St &amp; 1 St</td>\n",
       "      <td>HB402</td>\n",
       "      <td>Hoboken Terminal - River St &amp; Hudson Pl</td>\n",
       "      <td>HB102</td>\n",
       "      <td>40.738790</td>\n",
       "      <td>-74.039300</td>\n",
       "      <td>40.736068</td>\n",
       "      <td>-74.029127</td>\n",
       "      <td>casual</td>\n",
       "      <td>360</td>\n",
       "    </tr>\n",
       "  </tbody>\n",
       "</table>\n",
       "</div>"
      ],
      "text/plain": [
       "            ride_id  rideable_type          started_at            ended_at  \\\n",
       "0  00018CB530A14F3E   classic_bike 2023-03-12 01:54:00 2023-03-12 01:56:00   \n",
       "1  0002D93A3D2C1A57  electric_bike 2023-03-16 19:35:00 2023-03-16 19:39:00   \n",
       "2  0004870EE61AB228   classic_bike 2023-03-12 11:06:00 2023-03-12 11:08:00   \n",
       "3  0004CA5FDFE2DF8D  electric_bike 2023-03-22 09:11:00 2023-03-22 09:13:00   \n",
       "4  00064A16BFD4A7BA   classic_bike 2023-03-09 08:09:00 2023-03-09 08:15:00   \n",
       "\n",
       "  start_station_name start_station_id  \\\n",
       "0   Hudson St & 4 St            HB607   \n",
       "1      Grove St PATH            JC115   \n",
       "2       Manila & 1st            JC082   \n",
       "3  Clinton St & 7 St            HB303   \n",
       "4  Madison St & 1 St            HB402   \n",
       "\n",
       "                          end_station_name end_station_id  start_lat  \\\n",
       "0                     8 St & Washington St          HB603  40.740877   \n",
       "1                         Monmouth and 6th          JC075  40.719410   \n",
       "2                               Newark Ave          JC032  40.721651   \n",
       "3                          6 St & Grand St          HB302  40.745420   \n",
       "4  Hoboken Terminal - River St & Hudson Pl          HB102  40.738790   \n",
       "\n",
       "   start_lng    end_lat    end_lng member_casual tot_ride_time  \n",
       "0 -74.028593  40.745984 -74.028199        member           120  \n",
       "1 -74.043090  40.725685 -74.048790        member           240  \n",
       "2 -74.042884  40.721525 -74.046305        member           120  \n",
       "3 -74.033320  40.744398 -74.034501        member           120  \n",
       "4 -74.039300  40.736068 -74.029127        casual           360  "
      ]
     },
     "execution_count": 34,
     "metadata": {},
     "output_type": "execute_result"
    }
   ],
   "source": [
    "bikedata_df.head()"
   ]
  },
  {
   "cell_type": "code",
   "execution_count": 37,
   "id": "33b83feb",
   "metadata": {},
   "outputs": [],
   "source": [
    "#Convert rate time to integer\n",
    "bikedata_df['tot_ride_time'] = bikedata_df['tot_ride_time'].astype(int)"
   ]
  },
  {
   "cell_type": "code",
   "execution_count": 40,
   "id": "ef12b1e5",
   "metadata": {},
   "outputs": [],
   "source": [
    "#Convert total ride time from seconds to minutes\n",
    "bikedata_df['tot_ride_time']=bikedata_df['tot_ride_time']/60"
   ]
  },
  {
   "cell_type": "code",
   "execution_count": 38,
   "id": "897ec180",
   "metadata": {},
   "outputs": [
    {
     "data": {
      "text/plain": [
       "ride_id                       object\n",
       "rideable_type                 object\n",
       "started_at            datetime64[ns]\n",
       "ended_at              datetime64[ns]\n",
       "start_station_name            object\n",
       "start_station_id              object\n",
       "end_station_name              object\n",
       "end_station_id                object\n",
       "start_lat                    float64\n",
       "start_lng                    float64\n",
       "end_lat                      float64\n",
       "end_lng                      float64\n",
       "member_casual                 object\n",
       "tot_ride_time                  int32\n",
       "dtype: object"
      ]
     },
     "execution_count": 38,
     "metadata": {},
     "output_type": "execute_result"
    }
   ],
   "source": [
    "bikedata_df.dtypes"
   ]
  },
  {
   "cell_type": "code",
   "execution_count": 41,
   "id": "37508c6c",
   "metadata": {},
   "outputs": [],
   "source": [
    "#Export final data\n",
    "bikedata_df.to_csv(\"citibikedataclean.csv\")"
   ]
  }
 ],
 "metadata": {
  "kernelspec": {
   "display_name": "Python 3 (ipykernel)",
   "language": "python",
   "name": "python3"
  },
  "language_info": {
   "codemirror_mode": {
    "name": "ipython",
    "version": 3
   },
   "file_extension": ".py",
   "mimetype": "text/x-python",
   "name": "python",
   "nbconvert_exporter": "python",
   "pygments_lexer": "ipython3",
   "version": "3.9.13"
  }
 },
 "nbformat": 4,
 "nbformat_minor": 5
}
